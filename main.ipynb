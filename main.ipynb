{
  "nbformat": 4,
  "nbformat_minor": 0,
  "metadata": {
    "colab": {
      "name": "main.ipynb",
      "provenance": [],
      "authorship_tag": "ABX9TyP5VdsY8Z34xG97kp1IZCm8",
      "include_colab_link": true
    },
    "kernelspec": {
      "name": "python3",
      "display_name": "Python 3"
    }
  },
  "cells": [
    {
      "cell_type": "markdown",
      "metadata": {
        "id": "view-in-github",
        "colab_type": "text"
      },
      "source": [
        "<a href=\"https://colab.research.google.com/github/nerudxlf/get_affilietions_and_names_from_scopus/blob/main/main.ipynb\" target=\"_parent\"><img src=\"https://colab.research.google.com/assets/colab-badge.svg\" alt=\"Open In Colab\"/></a>"
      ]
    },
    {
      "cell_type": "code",
      "metadata": {
        "id": "FNJRSkblIWRu"
      },
      "source": [
        "import pandas as pd\r\n",
        "from google.colab import files\r\n",
        "\r\n",
        "files.upload()"
      ],
      "execution_count": null,
      "outputs": []
    },
    {
      "cell_type": "code",
      "metadata": {
        "id": "zTYl9Vo6IYje"
      },
      "source": [
        "def get_name(split_list: list) -> str:\r\n",
        "  if len(split_list[1]) > 6:  # Проблема с отсутсвием инициалов\r\n",
        "    return split_list[0]\r\n",
        "  return split_list[0] + \" \" + split_list[1]\r\n",
        "\r\n",
        "\r\n",
        "def get_university(split_list: list) -> str:\r\n",
        "  devel = \"Development\"\r\n",
        "  dep = \"Department\"\r\n",
        "  lab = \"Laboratory\"\r\n",
        "  if split_list[2].find(devel) == -1 and split_list[2].find(dep) == -1 and split_list[2].find(lab) == -1:\r\n",
        "    if len(split_list[1]) > 6:  # Проблема с отсутсвием инициалов\r\n",
        "      return split_list[1]\r\n",
        "    return split_list[2]\r\n",
        "  return split_list[3]\r\n",
        "\r\n",
        "\r\n",
        "def get_country(split_list: list) -> str:\r\n",
        "  return split_list[-1]"
      ],
      "execution_count": null,
      "outputs": []
    },
    {
      "cell_type": "code",
      "metadata": {
        "id": "QQNDF7SPIec2"
      },
      "source": [
        "scopus_data_to_list_split = []\r\n",
        "name_list = []\r\n",
        "university_list = []\r\n",
        "university_list = []\r\n",
        "\r\n",
        "scopus_data = pd.read_csv(\"scopus_data.csv\")['Authors with affiliations']\r\n",
        "scopus_data_to_list = scopus_data.to_list()\r\n",
        "\r\n",
        "for elem in scopus_data_to_list:\r\n",
        "  for elem in scopus_data_to_list:\r\n",
        "    scopus_data_to_list_split.append(item)\r\n",
        "  scopus_data_to_list_split.append(\"\")\r\n",
        "\r\n",
        "for elem in scopus_data_to_list_split:\r\n",
        "  elem_split = elem.split(', ')\r\n",
        "  if len(elem_split) == 1:\r\n",
        "    name_list.append(\"\")\r\n",
        "    university_list.append(\"\")\r\n",
        "    country_list.append(\"\")\r\n",
        "    continue\r\n",
        "  name_list.append(get_name(elem_split))\r\n",
        "  try:\r\n",
        "    university_list.append(get_university(elem_split))\r\n",
        "    country_list.append(get_country(elem_split))\r\n",
        "  except IndexError:\r\n",
        "    university_list.append(\"-\")\r\n",
        "    country_list.append(\"-\")\r\n",
        "\r\n",
        "result_df = pd.DataFrame({'Author': name_list, 'University': university_list, 'Country': country_list})\r\n",
        "result_df.to_excel(\"result.xlsx\", index=False)"
      ],
      "execution_count": null,
      "outputs": []
    }
  ]
}